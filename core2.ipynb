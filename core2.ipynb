{
 "cells": [
  {
   "cell_type": "code",
   "execution_count": 13,
   "metadata": {},
   "outputs": [
    {
     "name": "stdout",
     "output_type": "stream",
     "text": [
      "   COUNTRY COURSE TYPE                COURSE (SPECIALIZATION)        FEES\n",
      "0  GERMANY         MBA              MBA in Sales & Marketing   3678127.31\n",
      "1  GERMANY         MBA                         MBA in Banking  1253594.37\n",
      "2  GERMANY         MBA         MBA in Business Administration   454540.69\n",
      "3  GERMANY         MBA  MBA in Hospital/Healthcare Management  3246719.22\n",
      "4  GERMANY         MBA       MBA in Human Resource Management  1217519.71\n",
      "     COUNTRY            COURSE TYPE   total_fees     mean_fees  course_count  \\\n",
      "0  AUSTRALIA                  M.ENG  29104924.43  2.078923e+06            14   \n",
      "1  AUSTRALIA                   M.Sc  16379318.08  2.047415e+06             8   \n",
      "2  AUSTRALIA  MASTERS OF MANAGEMENT  26892397.79  1.920886e+06            14   \n",
      "3  AUSTRALIA                    MBA  12113668.09  2.018945e+06             6   \n",
      "4    BELGIUM                  M.ENG   3694906.00  3.694906e+05            10   \n",
      "\n",
      "     min_fees    max_fees       std_fees      var_fees  \n",
      "0  1627902.18  2281248.16  197280.136336  3.891945e+10  \n",
      "1  1518647.00  2346801.27  291873.723823  8.519027e+10  \n",
      "2  1311062.16  2576674.17  449152.807738  2.017382e+11  \n",
      "3  1362958.37  3660048.53  849517.051027  7.216792e+11  \n",
      "4    80402.60   594437.20  200432.229312  4.017308e+10  \n",
      "                 COUNTRY        FEES  DESVIACION_FEE\n",
      "COUNTRY                                             \n",
      "AUSTRALIA 318  AUSTRALIA  1818006.20   -1.936678e+05\n",
      "          319  AUSTRALIA  1625717.08   -3.859569e+05\n",
      "          320  AUSTRALIA  2150141.94    1.384679e+05\n",
      "          321  AUSTRALIA  1362958.37   -6.487156e+05\n",
      "          322  AUSTRALIA  3660048.53    1.648375e+06\n"
     ]
    },
    {
     "name": "stderr",
     "output_type": "stream",
     "text": [
      "C:\\Users\\ivan_\\AppData\\Local\\Temp\\ipykernel_5720\\1790988584.py:48: DeprecationWarning: DataFrameGroupBy.apply operated on the grouping columns. This behavior is deprecated, and in a future version of pandas the grouping columns will be excluded from the operation. Either pass `include_groups=False` to exclude the groupings or explicitly select the grouping columns after groupby to silence this warning.\n",
      "  df = df.groupby('COUNTRY').apply(calcular_desviacion)\n"
     ]
    }
   ],
   "source": [
    "# Importamos las librerías necesarias\n",
    "import pandas as pd\n",
    "\n",
    "# Cargamos el dataset\n",
    "df = pd.read_csv('C:/Users/ivan_/Documents/bootcamp/python_para_datos/pandas avanzado/abroad  - Sheet1.csv')\n",
    "\n",
    "# Mostramos las primeras filas para inspeccionar el dataset\n",
    "print(df.head())\n",
    "\n",
    "# Convertimos la columna 'FEES' a formato numérico\n",
    "df['FEES'] = pd.to_numeric(df['FEES'], errors='coerce')\n",
    "\n",
    "# Normalizamos las tasas (fees)\n",
    "df['FEES_NORMALIZED'] = (df['FEES'] - df['FEES'].min()) / (df['FEES'].max() - df['FEES'].min())\n",
    "\n",
    "# Función para clasificar las tasas de los cursos en 'Alta', 'Media' o 'Baja'\n",
    "def clasificar_fees(fees):\n",
    "    if fees >= df['FEES'].quantile(0.75):\n",
    "        return 'Alta'\n",
    "    elif fees >= df['FEES'].quantile(0.25):\n",
    "        return 'Media'\n",
    "    else:\n",
    "        return 'Baja'\n",
    "\n",
    "# Aplicamos la función y creamos una nueva columna con la clasificación\n",
    "df['FEE_CATEGORY'] = df['FEES'].apply(clasificar_fees)\n",
    "\n",
    "# Agrupamos por país (COUNTRY) y tipo de curso (COURSE TYPE) y calculamos estadísticas descriptivas\n",
    "grouped = df.groupby(['COUNTRY', 'COURSE TYPE']).agg(\n",
    "    total_fees=pd.NamedAgg(column='FEES', aggfunc='sum'),\n",
    "    mean_fees=pd.NamedAgg(column='FEES', aggfunc='mean'),\n",
    "    course_count=pd.NamedAgg(column='COURSE (SPECIALIZATION)', aggfunc='count'),\n",
    "    min_fees=pd.NamedAgg(column='FEES', aggfunc='min'),\n",
    "    max_fees=pd.NamedAgg(column='FEES', aggfunc='max'),\n",
    "    std_fees=pd.NamedAgg(column='FEES', aggfunc='std'),\n",
    "    var_fees=pd.NamedAgg(column='FEES', aggfunc='var')\n",
    ").reset_index()\n",
    "\n",
    "# Mostramos las primeras filas del agrupamiento\n",
    "print(grouped.head())\n",
    "\n",
    "# Función para calcular la desviación respecto a la media\n",
    "def calcular_desviacion(grupo):\n",
    "    grupo['DESVIACION_FEE'] = grupo['FEES'] - grupo['FEES'].mean()\n",
    "    return grupo\n",
    "\n",
    "# Aplicamos la función a cada grupo de país\n",
    "df = df.groupby('COUNTRY').apply(calcular_desviacion)\n",
    "\n",
    "# Mostramos el resultado con las nuevas columnas\n",
    "print(df[['COUNTRY', 'FEES', 'DESVIACION_FEE']].head())\n",
    "\n",
    "# Guardamos el dataset transformado en un archivo CSV\n",
    "df.to_csv('output_transformed_dataset.csv', index=False)\n"
   ]
  },
  {
   "cell_type": "code",
   "execution_count": null,
   "metadata": {},
   "outputs": [],
   "source": []
  }
 ],
 "metadata": {
  "kernelspec": {
   "display_name": "Python 3",
   "language": "python",
   "name": "python3"
  },
  "language_info": {
   "codemirror_mode": {
    "name": "ipython",
    "version": 3
   },
   "file_extension": ".py",
   "mimetype": "text/x-python",
   "name": "python",
   "nbconvert_exporter": "python",
   "pygments_lexer": "ipython3",
   "version": "3.12.7"
  }
 },
 "nbformat": 4,
 "nbformat_minor": 2
}
